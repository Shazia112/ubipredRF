{
 "cells": [
  {
   "cell_type": "code",
   "execution_count": null,
   "metadata": {},
   "outputs": [],
   "source": [
    "import csv\n",
    "import math\n",
    "import numpy as np\n",
    "import pandas as pd\n",
    "import tensorflow as tf\n",
    "from neupy import algorithms\n",
    "from numpy import interp\n",
    "from scipy import interpolate\n",
    "import matplotlib.pyplot as plt\n",
    "from sklearn import metrics\n",
    "from sklearn.metrics import roc_curve, auc\n",
    "from sklearn.model_selection import StratifiedKFold, KFold\n",
    "from sklearn.naive_bayes import BernoulliNB\n",
    "from sklearn.neighbors import KNeighborsClassifier\n",
    "from sklearn.preprocessing import StandardScaler\n",
    "from sklearn.ensemble import RandomForestClassifier, AdaBoostClassifier\n",
    "from sklearn.metrics import matthews_corrcoef\n",
    "from sklearn.metrics import confusion_matrix\n",
    "from sklearn.neural_network import MLPClassifier\n",
    "from sklearn.svm import SVC\n",
    "from sklearn.decomposition import PCA\n",
    "from sklearn import datasets, metrics"
   ]
  },
  {
   "cell_type": "code",
   "execution_count": null,
   "metadata": {},
   "outputs": [],
   "source": [
    "random_state = np.random.RandomState(5)\n",
    "inputSize = 210\n",
    "outputCol = inputSize + 1\n",
    "\n",
    "# 10 Fold Part\n",
    "print('\\nk-fold Cross-Validation')\n",
    "results = pd.DataFrame(columns=['training_score', 'test_score'])\n",
    "fprs, tprs, scores = [], [], []\n",
    "dataset = np.genfromtxt(\"./FVs.csv\", delimiter=\",\", dtype=float)\n",
    "X = dataset[:, 0:inputSize]\n",
    "Y = dataset[:, inputSize:outputCol]\n",
    "std_scale = StandardScaler().fit(X)\n",
    "X = std_scale.transform(X)\n",
    "cvscores = []\n",
    "shape_X=X.shape\n",
    "shape_Y=Y.shape\n",
    "print ('The shape of X is: ' + str(shape_X))\n",
    "print ('The shape of Y is: ' + str(shape_Y))"
   ]
  },
  {
   "cell_type": "markdown",
   "metadata": {},
   "source": [
    "# Classification "
   ]
  },
  {
   "cell_type": "code",
   "execution_count": 4,
   "metadata": {},
   "outputs": [],
   "source": [
    "# Run classifier with cross-validation and plot ROC curves\n",
    "cv = StratifiedKFold(n_splits=10, shuffle=True)\n",
    "#classifier = BernoulliNB()\n",
    " #clf = algorithms.PNN(std=10, verbose=False)\n",
    "# classifier = AdaBoostClassifier(n_estimators=100)\n",
    "#classifier = SVC(kernel='linear', probability=True)\n",
    "#classifier = KNeighborsClassifier(n_neighbors=150)\n",
    "#clf = RandomForestClassifier(n_estimators=3, oob_score=True, random_state=29, warm_start=False)\n",
    "#clf = MLPClassifier(solver='lbfgs', alpha=1e-5,hidden_layer_sizes=(9#, 2), random_state=1)\n",
    "tprs = []\n",
    "aucs = []\n",
    "mean_fpr = np.linspace(0, 1, 100)\n"
   ]
  },
  {
   "cell_type": "markdown",
   "metadata": {},
   "source": [
    "# Independent testing"
   ]
  },
  {
   "cell_type": "code",
   "execution_count": 5,
   "metadata": {},
   "outputs": [
    {
     "name": "stdout",
     "output_type": "stream",
     "text": [
      "\n",
      "Independent testing\n",
      "training dataset 70%\n",
      "(800, 210) (800, 1)\n",
      "testing dataset 30%\n",
      "(344, 210) (344, 1)\n",
      "\n",
      "Independent training data set confusion matrix\n",
      "['True Negative =', 394, 'False Positive =', 8, 'False Negative =', 0, 'True Positive =', 398, 'Accuracy =', 99.0]\n",
      "['Accuracy =', 99.0, 'Sensitivity =', 1.0, 'Precession =', 1.0, 'MCC =', 1.0]\n",
      "\n",
      "Independent testing  data set confusion matrix\n",
      "['True Negative =', 169, 'False Positive =', 1, 'False Negative =', 2, 'True Positive =', 172, 'Accuracy =', 99.13]\n",
      "['Accuracy =', 99.13, 'Sensitivity =', 1.0, 'Precession =', 1.0, 'MCC =', 1.0]\n"
     ]
    },
    {
     "data": {
      "image/png": "[encoded data removed]",
      "text/plain": [
       "<Figure size 432x288 with 1 Axes>"
      ]
     },
     "metadata": {
      "needs_background": "light"
     },
     "output_type": "display_data"
    }
   ],
   "source": [
    "from sklearn.model_selection import train_test_split\n",
    "print('\\nIndependent testing')\n",
    "# resultwriter.writerow(['\\n\\rindependent testing'])\n",
    "# create training and testing vars\n",
    "X_train, X_test, y_train, y_test = train_test_split(X, Y, test_size=0.3)\n",
    "# train dataset\n",
    "print(\"training dataset 70%\")\n",
    "print(X_train.shape, y_train.shape)\n",
    "# test dataset\n",
    "print(\"testing dataset 30%\")\n",
    "print(X_test.shape, y_test.shape)\n",
    "# train the model\n",
    "std_scale = StandardScaler().fit(X_train)\n",
    "X_train = np.array(X_train, dtype='float32')\n",
    "X_train = std_scale.transform(X_train)\n",
    "# X_train = std_scale.transform(X_train)\n",
    "# X_train = np.array(X_train,dtype='float32')\n",
    "X_train = X_train[:, ~np.isnan(X_train).any(axis=0)]\n",
    "pca = PCA(n_components=2)\n",
    "pca.fit(X_train)\n",
    "X_train = pca.transform(X_train)\n",
    "clf = RandomForestClassifier(n_estimators=25, max_depth=16, oob_score=True, n_jobs=-1, warm_start=True).fit(X_train, y_train.ravel())\n",
    "#clf = MLPClassifier(solver='lbfgs', alpha=1e-5,hidden_layer_sizes=(5, 2), random_state=1).fit(X_train, y_train.ravel()) \n",
    "pred = np.round(clf.predict(X_train)) #clf\n",
    "tn, fp, fn, tp = confusion_matrix(y_train, pred, labels=[1, 0]).ravel()\n",
    "acc = np.round(((tn + tp) / (tn + fp + fn + tp)) * 100, 2)\n",
    "sn=np.round(tp/(tp+fn))\n",
    "sp=np.round(tn/(tn+fp))\n",
    "prec=np.round(tp/(tp+fp))\n",
    "mcc=np.round((tp*tn-fp*fn)/(math.sqrt((tp+fp)*(tp+fn)*(tn+fn)*(tn+fn))))\n",
    "print(\"\\nIndependent training data set confusion matrix\")\n",
    "print(\n",
    "    (['True Negative =', tn, 'False Positive =', fp, 'False Negative =', fn, 'True Positive =', tp, 'Accuracy =', acc]))\n",
    "print(\n",
    "    (['Accuracy =', acc, 'Sensitivity =', sn, 'Precession =', prec, 'MCC =', mcc]))\n",
    "# now test the model\n",
    "std_scale = StandardScaler().fit(X_test)\n",
    "X_test = std_scale.transform(X_test)\n",
    "pca = PCA(n_components=2)\n",
    "pca.fit(X_test)\n",
    "X_test = pca.transform(X_test)\n",
    "clf = RandomForestClassifier(n_estimators=25, max_depth=12, oob_score=True, n_jobs=-1, warm_start=True).fit(X_test, y_test.ravel())\n",
    "#clf = MLPClassifier(solver='lbfgs', alpha=1e-5,hidden_layer_sizes=(5, 2), random_state=1).fit(X_test, y_test.ravel())\n",
    "pred_test = np.round(clf.predict(X_test)) # clf\n",
    "tn1, fp1, fn1, tp1 = confusion_matrix(y_test, pred_test, labels=[1, 0]).ravel()\n",
    "acc1 = np.round(((tn1 + tp1) / (tn1 + fp1 + fn1 + tp1)) * 100, 2)\n",
    "sn1=np.round(tp1/(tp1+fn1))\n",
    "sp1=np.round(tn/(tn1+fp1))\n",
    "prec1=np.round(tp1/(tp1+fp1))\n",
    "mcc1=np.round((tp1*tn1-fp1*fn1)/(math.sqrt((tp1+fp1)*(tp1+fn1)*(tn1+fn1)*(tn1+fn1))))\n",
    "print(\"\\nIndependent testing  data set confusion matrix\")\n",
    "print((['True Negative =', tn1, 'False Positive =', fp1, 'False Negative =', fn1, 'True Positive =', tp1, 'Accuracy =',\n",
    "        acc1]))\n",
    "print(\n",
    "    (['Accuracy =', acc1, 'Sensitivity =', sn1, 'Precession =', prec1, 'MCC =', mcc1]))\n",
    "with open('./result2.csv', 'w', newline='') as csvfile:\n",
    "    resultwriter = csv.writer(csvfile, delimiter=',', quotechar='|')\n",
    "    resultwriter.writerow(['Independent testing'])\n",
    "    resultwriter.writerow(['training dataset 70%'])\n",
    "    resultwriter.writerow([X_train.shape, y_train.shape])\n",
    "    resultwriter.writerow(['testing dataset 30%'])\n",
    "    resultwriter.writerow([X_test.shape, y_test.shape])\n",
    "    resultwriter.writerow([\"training data set confusion matrix\"])\n",
    "    resultwriter.writerow((\n",
    "                          ['True Negative =', tn, 'False Positive =', fp, 'False Negative =', fn, 'True Positive =', tp,\n",
    "                           'Accuracy =', acc]))\n",
    "    resultwriter.writerow((['testing  data set confusion matrix']))\n",
    "    resultwriter.writerow((['True Negative =', tn1, 'False Positive =', fp1, 'False Negative =', fn1, 'True Positive =',\n",
    "                            tp1, 'Accuracy =', acc1]))\n",
    "\n",
    "from matplotlib import pyplot\n",
    "\n",
    "ns_probs1 = [0 for _ in range(len(y_test))]\n",
    "lr_probs1 = clf.predict_proba(X_test) #clf\n",
    "# keep probabilities for the positive outcome only\n",
    "lr_probs1 = lr_probs1[:, 1]\n",
    "\n",
    "# calculate roc curves\n",
    "ns_fpr3, ns_tpr3, _ = roc_curve(y_test, ns_probs1)\n",
    "lr_fpr3, lr_tpr3, _ = roc_curve(y_test, lr_probs1)\n",
    "\n",
    "# plot the roc curve for the model\n",
    "pyplot.plot(ns_fpr3, ns_tpr3, linestyle='--')\n",
    "pyplot.plot(lr_fpr3, lr_tpr3, marker='.', label='Independent Testing')\n",
    "# axis labels\n",
    "pyplot.xlabel('False Positive Rate')\n",
    "pyplot.ylabel('True Positive Rate')\n",
    "# show the legend\n",
    "pyplot.legend()\n",
    "# show the plot\n",
    "pyplot.show()\n"
   ]
  },
  {
   "cell_type": "markdown",
   "metadata": {},
   "source": [
    "# K fold Validation"
   ]
  },
  {
   "cell_type": "code",
   "execution_count": 6,
   "metadata": {},
   "outputs": [
    {
     "name": "stdout",
     "output_type": "stream",
     "text": [
      "\n",
      "k-fold Cross-Validation\n",
      "Fold : 0\n",
      "[46, 0, 57, 12, 89.57, 100.0, 79.31, 0.80943]\n",
      "Fold : 1\n",
      "[58, 0, 57, 0, 100.0, 100.0, 100.0, 1.0]\n",
      "Fold : 2\n"
     ]
    },
    {
     "name": "stderr",
     "output_type": "stream",
     "text": [
      "C:\\Users\\HP\\anaconda3\\envs\\tensorflow\\lib\\site-packages\\sklearn\\ensemble\\_forest.py:369: UserWarning: Warm-start fitting without increasing n_estimators does not fit new trees.\n",
      "  warn(\"Warm-start fitting without increasing n_estimators does not \"\n",
      "C:\\Users\\HP\\anaconda3\\envs\\tensorflow\\lib\\site-packages\\sklearn\\ensemble\\_forest.py:369: UserWarning: Warm-start fitting without increasing n_estimators does not fit new trees.\n",
      "  warn(\"Warm-start fitting without increasing n_estimators does not \"\n"
     ]
    },
    {
     "name": "stdout",
     "output_type": "stream",
     "text": [
      "[57, 0, 58, 0, 100.0, 100.0, 100.0, 1.0]\n",
      "Fold : 3\n",
      "[55, 0, 58, 2, 98.26, 100.0, 96.49, 0.96579]\n",
      "Fold : 4\n",
      "[55, 0, 57, 2, 98.25, 100.0, 96.49, 0.96551]\n",
      "Fold : 5"
     ]
    },
    {
     "name": "stderr",
     "output_type": "stream",
     "text": [
      "C:\\Users\\HP\\anaconda3\\envs\\tensorflow\\lib\\site-packages\\sklearn\\ensemble\\_forest.py:369: UserWarning: Warm-start fitting without increasing n_estimators does not fit new trees.\n",
      "  warn(\"Warm-start fitting without increasing n_estimators does not \"\n",
      "C:\\Users\\HP\\anaconda3\\envs\\tensorflow\\lib\\site-packages\\sklearn\\ensemble\\_forest.py:369: UserWarning: Warm-start fitting without increasing n_estimators does not fit new trees.\n",
      "  warn(\"Warm-start fitting without increasing n_estimators does not \"\n",
      "C:\\Users\\HP\\anaconda3\\envs\\tensorflow\\lib\\site-packages\\sklearn\\ensemble\\_forest.py:369: UserWarning: Warm-start fitting without increasing n_estimators does not fit new trees.\n",
      "  warn(\"Warm-start fitting without increasing n_estimators does not \"\n"
     ]
    },
    {
     "name": "stdout",
     "output_type": "stream",
     "text": [
      "\n",
      "[57, 2, 55, 0, 98.25, 96.49, 100.0, 0.96551]\n",
      "Fold : 6\n",
      "[54, 0, 57, 3, 97.37, 100.0, 94.74, 0.94868]\n",
      "Fold : 7\n"
     ]
    },
    {
     "name": "stderr",
     "output_type": "stream",
     "text": [
      "C:\\Users\\HP\\anaconda3\\envs\\tensorflow\\lib\\site-packages\\sklearn\\ensemble\\_forest.py:369: UserWarning: Warm-start fitting without increasing n_estimators does not fit new trees.\n",
      "  warn(\"Warm-start fitting without increasing n_estimators does not \"\n",
      "C:\\Users\\HP\\anaconda3\\envs\\tensorflow\\lib\\site-packages\\sklearn\\ensemble\\_forest.py:369: UserWarning: Warm-start fitting without increasing n_estimators does not fit new trees.\n",
      "  warn(\"Warm-start fitting without increasing n_estimators does not \"\n",
      "C:\\Users\\HP\\anaconda3\\envs\\tensorflow\\lib\\site-packages\\sklearn\\ensemble\\_forest.py:369: UserWarning: Warm-start fitting without increasing n_estimators does not fit new trees.\n",
      "  warn(\"Warm-start fitting without increasing n_estimators does not \"\n"
     ]
    },
    {
     "name": "stdout",
     "output_type": "stream",
     "text": [
      "[57, 1, 56, 0, 99.12, 98.25, 100.0, 0.98261]\n",
      "Fold : 8\n",
      "[57, 0, 57, 0, 100.0, 100.0, 100.0, 1.0]\n",
      "Fold : 9\n",
      "[57, 1, 56, 0, 99.12, 98.25, 100.0, 0.98261]\n"
     ]
    },
    {
     "name": "stderr",
     "output_type": "stream",
     "text": [
      "C:\\Users\\HP\\anaconda3\\envs\\tensorflow\\lib\\site-packages\\sklearn\\ensemble\\_forest.py:369: UserWarning: Warm-start fitting without increasing n_estimators does not fit new trees.\n",
      "  warn(\"Warm-start fitting without increasing n_estimators does not \"\n"
     ]
    },
    {
     "data": {
      "image/png": "[encoded data removed]",
      "text/plain": [
       "<Figure size 432x288 with 1 Axes>"
      ]
     },
     "metadata": {
      "needs_background": "light"
     },
     "output_type": "display_data"
    },
    {
     "name": "stdout",
     "output_type": "stream",
     "text": [
      "\n",
      "\n",
      "Results are Saved in Cross-Validation-Results-5.csv\n"
     ]
    }
   ],
   "source": [
    "# 10 Fold Part\n",
    "print('\\nk-fold Cross-Validation')\n",
    "results = pd.DataFrame(columns=['training_score', 'test_score'])\n",
    "fprs, tprs, scores = [], [], []\n",
    "dataset = np.genfromtxt(\"./FVs.csv\", delimiter=\",\", dtype=float)\n",
    "X = dataset[:, 0:inputSize]\n",
    "Y = dataset[:, inputSize:outputCol]\n",
    "std_scale = StandardScaler().fit(X)\n",
    "X = std_scale.transform(X)\n",
    "cvscores = []\n",
    "\n",
    "# #############################################################################\n",
    "# Classification and ROC analysis\n",
    "\n",
    "# Run classifier with cross-validation and plot ROC curves\n",
    "#cv = StratifiedKFold(n_splits=10, shuffle=True)\n",
    "# classifier = BernoulliNB()\n",
    "# classifier = algorithms.PNN(std=10, verbose=False)\n",
    "# classifier = AdaBoostClassifier(n_estimators=100)\n",
    "# classifier = SVC(kernel='linear', probability=True)\n",
    "#classifier = KNeighborsClassifier(n_neighbors=500)\n",
    "classifier = RandomForestClassifier(n_estimators=25, max_depth=25, oob_score=True, n_jobs=-1, warm_start=True)\n",
    "\n",
    "tprs = []\n",
    "aucs = []\n",
    "mean_fpr = np.linspace(0, 1, 100)\n",
    "\n",
    "i = 0\n",
    "for train, test in cv.split(X, Y):\n",
    "    print('Fold : ' + str(i))\n",
    "    classifier.fit(X[train], Y[train].ravel())\n",
    "    pred = np.round(classifier.predict(X[test]))\n",
    "    tp, fn, fp, tn = confusion_matrix(Y[test], pred, labels=[1, 0]).ravel()\n",
    "    acc = np.round(((tn + tp) / (tn + fp + fn + tp)) * 100, 2)\n",
    "    sp = np.round((tn / (fp + tn)) * 100, 2)\n",
    "    sn = np.round((tp / (tp + fn)) * 100, 2)\n",
    "    mcc = np.round(matthews_corrcoef(Y[test].ravel(), pred), 5)\n",
    "    cvscores.append([tp, fp, tn, fn, acc, sp, sn, mcc])\n",
    "    print([tp, fp, tn, fn, acc, sp, sn, mcc])\n",
    "    probas_ = classifier.predict_proba(X[test])\n",
    "    # Compute ROC curve and area under the curve\n",
    "    fpr, tpr, thresholds = metrics.roc_curve(Y[test], probas_[:, 1])\n",
    "    tprs.append(interp(mean_fpr, fpr, tpr))\n",
    "    tprs[-1][0] = 0.0\n",
    "    roc_auc = auc(fpr, tpr)\n",
    "    aucs.append(roc_auc)\n",
    "    plt.plot(fpr, tpr, lw=1, alpha=0.2,\n",
    "             label='ROC fold %d (AUC = %0.2f)' % (i, roc_auc))\n",
    "    i += 1\n",
    "\n",
    "plt.plot([0, 1], [0, 1], linestyle='--', lw=2, color='r',\n",
    "         label='Luck', alpha=.8)\n",
    "\n",
    "mean_tpr = np.mean(tprs, axis=0)\n",
    "mean_tpr[-1] = 1.0\n",
    "mean_auc = auc(mean_fpr, mean_tpr)\n",
    "std_auc = np.std(aucs)\n",
    "plt.plot(mean_fpr, mean_tpr, color='b',\n",
    "         label=r'Mean ROC (AUC = %0.2f $\\pm$ %0.2f)' % (mean_auc, std_auc),\n",
    "         lw=2, alpha=.8)\n",
    "\n",
    "std_tpr = np.std(tprs, axis=0)\n",
    "tprs_upper = np.minimum(mean_tpr + std_tpr, 1)\n",
    "tprs_lower = np.maximum(mean_tpr - std_tpr, 0)\n",
    "plt.fill_between(mean_fpr, tprs_lower, tprs_upper, color='grey', alpha=.2,\n",
    "                 label=r'$\\pm$ 1 std. dev.')\n",
    "\n",
    "plt.xlim([-0.05, 1.05])\n",
    "plt.ylim([-0.05, 1.05])\n",
    "plt.xlabel('False Positive Rate')\n",
    "plt.ylabel('True Positive Rate')\n",
    "plt.title('Receiver Operating Characteristic (ROC) - Curve')\n",
    "plt.legend(loc=\"lower right\")\n",
    "# plt.legend('')\n",
    "plt.show()\n",
    "\n",
    "print('\\n\\nResults are Saved in Cross-Validation-Results-5.csv')\n",
    "with open('./Cross-Validation-Results.csv', 'w', newline='') as csvfile:\n",
    "    resultwriter = csv.writer(csvfile, delimiter=',', quotechar='|')\n",
    "    resultwriter.writerow(['10-Fold Cross-Validation'])\n",
    "    resultwriter.writerow(\n",
    "        ['True Positive', 'False Positive', 'True Negative', 'False Negative', 'Accuracy', 'Specificity', 'Sensitivity',\n",
    "         'MCC'])\n",
    "    for i in range(cvscores.__len__()):\n",
    "        resultwriter.writerow(cvscores[i])\n"
   ]
  },
  {
   "cell_type": "markdown",
   "metadata": {},
   "source": [
    "# Self Consistency\n"
   ]
  },
  {
   "cell_type": "code",
   "execution_count": 7,
   "metadata": {},
   "outputs": [
    {
     "name": "stdout",
     "output_type": "stream",
     "text": [
      "\n",
      "Self-Consistency\n",
      "[560, 12, 2, 570, 98.78, 0.9965034965034965, 'Accuracy =', 98.78, 'specificity=', 0.9790209790209791, 'Sensitivity =', 0.9965034965034965, 'Precession =', 0.979381443298969, 'MCC =', 0.9843156846095926]\n"
     ]
    },
    {
     "data": {
      "image/png": "[encoded data removed]",
      "text/plain": [
       "<Figure size 432x288 with 1 Axes>"
      ]
     },
     "metadata": {
      "needs_background": "light"
     },
     "output_type": "display_data"
    },
    {
     "data": {
      "text/plain": [
       "98.78"
      ]
     },
     "execution_count": 7,
     "metadata": {},
     "output_type": "execute_result"
    }
   ],
   "source": [
    "import matplotlib.pyplot as pyplot\n",
    "print('\\nSelf-Consistency')\n",
    "clf = RandomForestClassifier(n_estimators=16, max_depth=40, oob_score=True, n_jobs=-1, warm_start=True).fit(X, Y.ravel())\n",
    "#clf = MLPClassifier(solver='lbfgs', alpha=1e-5,hidden_layer_sizes=(5, 2), random_state=1).fit(X, Y.ravel())\n",
    "pred = np.round(clf.predict(X)) # clf\n",
    "tn, fp, fn, tp = confusion_matrix(Y, pred, labels=[1, 0]).ravel()\n",
    "acc = np.round(((tn + tp) / (tn + fp + fn + tp)) * 100, 2)\n",
    "sn=(tp/(tp+fn))\n",
    "sp=(tn/(tn+fp))\n",
    "prec=(tp/(tp+fp))\n",
    "mcc=((tp*tn-fp*fn)/(math.sqrt((tp+fp)*(tp+fn)*(tn+fn)*(tn+fn))))\n",
    "print([tn, fp, fn, tp, acc, sn, 'Accuracy =', acc, 'specificity=', sp, 'Sensitivity =', sn, 'Precession =', prec, 'MCC =', mcc ])\n",
    "ns_probs1 = [0 for _ in range(len(Y))]\n",
    "lr_probs1 = clf.predict_proba(X) # clf\n",
    "# keep probabilities for the positive outcome only\n",
    "lr_probs1 = lr_probs1[:, 1]\n",
    "ns_fpr1, ns_tpr1, _ = roc_curve(Y, ns_probs1)\n",
    "lr_fpr1, lr_tpr1, _ = roc_curve(Y, lr_probs1)\n",
    "# plot the roc curve for the model\n",
    "pyplot.plot(ns_fpr1, ns_tpr1, linestyle='--')\n",
    "pyplot.plot(lr_fpr1, lr_tpr1, marker='.', label='Self-Consistency')\n",
    "# axis labels\n",
    "pyplot.xlabel('False Positive Rate')\n",
    "pyplot.ylabel('True Positive Rate')\n",
    "# show the legend\n",
    "pyplot.legend()\n",
    "# show the plot\n",
    "pyplot.show()\n",
    "acc"
   ]
  },
  {
   "cell_type": "markdown",
   "metadata": {},
   "source": [
    "# JackKnife"
   ]
  },
  {
   "cell_type": "code",
   "execution_count": null,
   "metadata": {},
   "outputs": [],
   "source": [
    "kfold = KFold(n_splits=20, shuffle=False)  # Removed Stratified Keyword for JackKnife\n",
    "cvscores = []\n",
    "iterator = 1\n",
    "cv_score = 0\n",
    "\n",
    "# Normalization\n",
    "std_scale = StandardScaler().fit(X)\n",
    "X = np.array(X, dtype='float64')\n",
    "#X = std_scale.transform(X)\n",
    "# pca = decomposition.PCA(n_components=2)\n",
    "# pca.fit(X)\n",
    "# X = pca.transform(X)\n",
    "print('\\nJacknife testing')\n",
    "for train, test in kfold.split(X, Y):\n",
    "    print('\\nJacknife : ' + str(iterator))\n",
    "    clf = RandomForestClassifier(n_estimators=30, max_depth=25, oob_score=True, n_jobs=-1, warm_start=False).fit(X, Y.ravel())\n",
    "    #clf = MLPClassifier(solver='lbfgs', alpha=1e-5,hidden_layer_sizes=(5, 2), random_state=1).fit(X, Y.ravel())\n",
    "    pred = np.round(clf.predict(X[test]))\n",
    "    tn2, fp2, fn2, tp2 = confusion_matrix(Y[test], pred, labels=[1, 0]).ravel()\n",
    "    acc2 = np.round(((tn2 + tp2)/ (tn2 + fp2 + fn2 + tp2)) * 100, 2)\n",
    "    sn2=np.round(tp2/(tp2+fn2))\n",
    "    sp2=np.round(tn2/(tn2+fp2))\n",
    "    prec2=np.round(tp2/(tp2+fp2))\n",
    "    mcc2=np.round((tp2*tn2-fp2*fn2)/(math.sqrt((tp2+fp2)*(tp2+fn2)*(tn2+fn2)*(tn2+fn2))))\n",
    "    cvscores.append([tn2, fp2, fn2, tp2, acc2, sn2, sp2, prec2, mcc2])\n",
    "    iterator = iterator + 1\n",
    "    print([tn2, fp2, fn2, tp2, 'Accuracy =', acc2, 'Sensitivity =', sn2, 'specificity=', sp2, 'Precession =', prec2, 'MCC =', mcc2])\n",
    "    cv_score = cv_score + acc2\n",
    "print('\\n\\rFinal Jacknife Score = ', np.round(cv_score / kfold.n_splits, 2))\n",
    "with open('./result3.csv', 'w', newline='') as csvfile:\n",
    "    resultwriter = csv.writer(csvfile, delimiter=',', quotechar='|')\n",
    "    resultwriter.writerow(['\\nJacknife'])\n",
    "    resultwriter.writerow(['True Negative' 'False Positive' 'False Negative' 'True Positive' 'Accuracy'])\n",
    "    for i in range(cvscores.__len__()):\n",
    "        resultwriter.writerow(cvscores[i])\n",
    "    resultwriter.writerow(['The Final Jacknife Score', '', '', '', np.round(cv_score / kfold.n_splits, 2)])\n",
    "\n",
    "from matplotlib import pyplot\n",
    "\n",
    "ns_probs1 = [0 for _ in range(len(Y))]\n",
    "lr_probs1 = clf.predict_proba(X)#clf\n",
    "# keep probabilities for the positive outcome only\n",
    "lr_probs1 = lr_probs1[:, 1]\n",
    "\n",
    "# calculate roc curves\n",
    "ns_fpr4, ns_tpr4, _ = roc_curve(Y, ns_probs1)\n",
    "lr_fpr4, lr_tpr4, _ = roc_curve(Y, lr_probs1)\n",
    "\n",
    "# plot the roc curve for the model\n",
    "pyplot.plot(ns_fpr4, ns_tpr4, linestyle='--')\n",
    "pyplot.plot(lr_fpr4, lr_tpr4, marker='.', label='Jacknife Testing')\n",
    "# axis labels\n",
    "pyplot.xlabel('False Positive Rate')\n",
    "pyplot.ylabel('True Positive Rate')\n",
    "# show the legend\n",
    "pyplot.legend()\n",
    "# show the plot\n",
    "pyplot.show()\n",
    "\n",
    "# plot the roc curve for the model\n",
    "pyplot.plot(ns_fpr1, ns_tpr1, linestyle='--', )\n",
    "pyplot.plot(lr_fpr1, lr_tpr1, marker='.', color='purple', label='Self-Consistency')\n",
    "\n",
    "# plot the roc curve for the model\n",
    "ns_fpr2, ns_tpr2, _ = roc_curve(y_test, ns_probs1) # this is needed to be check as I suppose to be true but needed verification\n",
    "pyplot.plot(ns_fpr2, ns_tpr2, linestyle='--', color='Blue')\n",
    "pyplot.plot(lr_fpr2, lr_tpr2, linestyle='-', color='Green', label='10-fold Cross Validation')\n",
    "\n",
    "# plot the roc curve for the model\n",
    "pyplot.plot(ns_fpr3, ns_tpr3, linestyle='--')\n",
    "pyplot.plot(lr_fpr3, lr_tpr3, marker='.', color='Cyan', label='Independent Testing')\n",
    "\n",
    "# plot the roc curve for the model\n",
    "pyplot.plot(ns_fpr4, ns_tpr4, linestyle='--')\n",
    "pyplot.plot(lr_fpr4, lr_tpr4, marker='.', color='yellow', label='Jacknife Testing')\n",
    "\n",
    "# axis labels\n",
    "pyplot.xlabel('False Positive Rate')\n",
    "pyplot.ylabel('True Positive Rate')\n",
    "# show the legend\n",
    "pyplot.legend()\n",
    "# show the plot\n",
    "pyplot.show()"
   ]
  }
 ],
 "metadata": {
  "kernelspec": {
   "display_name": "Python 3",
   "language": "python",
   "name": "python3"
  },
  "language_info": {
   "codemirror_mode": {
    "name": "ipython",
    "version": 3
   },
   "file_extension": ".py",
   "mimetype": "text/x-python",
   "name": "python",
   "nbconvert_exporter": "python",
   "pygments_lexer": "ipython3",
   "version": "3.6.13"
  }
 },
 "nbformat": 4,
 "nbformat_minor": 4
}
